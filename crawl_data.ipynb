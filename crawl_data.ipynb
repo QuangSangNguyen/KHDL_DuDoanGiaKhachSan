{
 "cells": [
  {
   "cell_type": "markdown",
   "metadata": {},
   "source": [
    "# Crawl Data"
   ]
  },
  {
   "cell_type": "code",
   "execution_count": 2,
   "metadata": {},
   "outputs": [],
   "source": [
    "from selenium import webdriver\n",
    "from bs4 import BeautifulSoup\n",
    "from selenium.webdriver.edge.service import Service\n",
    "import csv\n",
    "from unidecode import unidecode\n",
    "from selenium.webdriver.support.ui import WebDriverWait\n",
    "from selenium.webdriver.support import expected_conditions as EC\n",
    "from selenium.webdriver.common.by import By\n",
    "from selenium.common.exceptions import TimeoutException, NoSuchElementException"
   ]
  },
  {
   "cell_type": "markdown",
   "metadata": {},
   "source": [
    "### Initialize webdriver"
   ]
  },
  {
   "cell_type": "code",
   "execution_count": null,
   "metadata": {},
   "outputs": [],
   "source": [
    "driver = webdriver.Edge(service=Service(\"D:\\\\msedgedriver.exe\"))"
   ]
  },
  {
   "cell_type": "markdown",
   "metadata": {},
   "source": [
    "### Create a list of the most popular facilities"
   ]
  },
  {
   "cell_type": "code",
   "execution_count": null,
   "metadata": {},
   "outputs": [],
   "source": [
    "Facilities = [\n",
    "'Hồ bơi ngoài trời',\n",
    "'Xe đưa đón sân bay',\n",
    "'Phòng không hút thuốc',\n",
    "'Giáp biển',\n",
    "'WiFi miễn phí',\n",
    "'Phòng gia đình',\n",
    "'Quầy bar',\n",
    "'Bữa sáng tuyệt hảo'\n",
    "]"
   ]
  },
  {
   "cell_type": "markdown",
   "metadata": {},
   "source": [
    "### Handles characters"
   ]
  },
  {
   "cell_type": "code",
   "execution_count": null,
   "metadata": {},
   "outputs": [],
   "source": [
    "def unicode_list(list):\n",
    "    for i in range(len(list)):\n",
    "        list[i] = unidecode(list[i])\n",
    "    return list"
   ]
  },
  {
   "cell_type": "markdown",
   "metadata": {},
   "source": [
    "### Create csv file to save crawled data"
   ]
  },
  {
   "cell_type": "code",
   "execution_count": null,
   "metadata": {},
   "outputs": [],
   "source": [
    "def create_csv():\n",
    "    with open ('hotel_raw.csv', 'w', encoding='utf8', newline='') as file:\n",
    "        writer = csv.writer(file)\n",
    "        writer.writerow(['Name', 'Address', 'Price', 'Size', 'Distance to beach', \"Distance to airport\"] + Facilities)"
   ]
  },
  {
   "cell_type": "markdown",
   "metadata": {},
   "source": [
    "### Let's crawl hotel data"
   ]
  },
  {
   "cell_type": "code",
   "execution_count": null,
   "metadata": {},
   "outputs": [],
   "source": [
    "def find_hotel():\n",
    "    global Facilities\n",
    "    driver.get('https://www.booking.com/searchresults.vi.html?ss=%C4%90%C3%A0+N%E1%BA%B5ng&ssne=%C4%90%C3%A0+N%E1%BA%B5ng&ssne_untouched=%C4%90%C3%A0+N%E1%BA%B5ng&efdco=1&label=gen173nr-1FCAEoggI46AdIM1gEaPQBiAEBmAEquAEXyAEM2AEB6AEB-AELiAIBqAIDuAKNgsSwBsACAdICJDAzODQ2YzBmLTRlMDUtNDE4Ni1iMGQ3LWVkOTgyZTBkZTBhOdgCBuACAQ&sid=872fb3a36b5bda03e6117f5ed983f79a&aid=304142&lang=vi&sb=1&src_elem=sb&src=index&dest_id=-3712125&dest_type=city&checkin=2024-06-10&checkout=2024-06-11&group_adults=2&no_rooms=1&group_children=0')\n",
    "    for i in range(50):\n",
    "        # Cuộn trang xuống cuối\n",
    "        driver.execute_script(\"window.scrollTo(0, document.body.scrollHeight);\")\n",
    "        try:\n",
    "            # Chờ cho đến khi nút bấm xuất hiện\n",
    "            load_page = WebDriverWait(driver, 20).until(EC.presence_of_element_located((By.CSS_SELECTOR, '.a83ed08757.c21c56c305.bf0537ecb5.f671049264.deab83296e.af7297d90d')))\n",
    "            load_page.click()\n",
    "        except TimeoutException:\n",
    "            # Nếu sau 10 giây mà nút bấm vẫn không xuất hiện, tiếp tục cuộn trang\n",
    "            continue\n",
    "\n",
    "    soup = BeautifulSoup(driver.page_source, 'lxml')\n",
    "    wait = WebDriverWait(driver, 10)\n",
    "\n",
    "    hotels = soup.find_all('div', class_='c82435a4b8 a178069f51 a6ae3c2b40 a18aeea94d d794b7a0f7 f53e278e95 c6710787a4')\n",
    "    for hotel in hotels:\n",
    "        # Lấy tên, giá và link của từng hotel\n",
    "        name = hotel.find('div', class_='f6431b446c a15b38c233').text\n",
    "        price = hotel.find('span', class_='f6431b446c fbfd7c1165 e84eb96b1f').text\n",
    "        more_infor = hotel.find('a', class_='a78ca197d0')['href']\n",
    "\n",
    "        driver.execute_script(f\"window.open('{more_infor}', 'new_window')\")\n",
    "        driver.switch_to.window(driver.window_handles[1])\n",
    "\n",
    "        sub_soup = BeautifulSoup(driver.page_source, 'lxml')\n",
    "\n",
    "        address = sub_soup.find('span', class_='hp_address_subtitle js-hp_address_subtitle jq_tooltip').text.strip()\n",
    "\n",
    "        try:\n",
    "            size = sub_soup.find('div', class_='hprt-facilities-facility', attrs={\"data-name-en\": \"room size\"}).get_text().split()[0]\n",
    "        except:\n",
    "            size = 0\n",
    "\n",
    "        facilities_res = [0] * len(Facilities)\n",
    "        try:\n",
    "            facilities_crawl = list(sub_soup.find_all('div', class_='c1f85371f5 c56ea7427a'))\n",
    "            facilities_list = [facility.text.strip() for facility in facilities_crawl][:len(facilities_crawl)//2]\n",
    "            Facilities = [facility.strip() for facility in Facilities]\n",
    "\n",
    "            facilities_list = unicode_list(facilities_list)\n",
    "            Facilities = unicode_list(Facilities)\n",
    "            \n",
    "            pool = unidecode('2 ho boi')\n",
    "            pool2 = unidecode('Ho boi trong nha')\n",
    "            if pool in facilities_list or pool2 in facilities_list:\n",
    "                facilities_list[facilities_list.index(pool)] = \"Ho boi ngoai troi\"\n",
    "\n",
    "            for facility in facilities_list:\n",
    "                if facility in Facilities:\n",
    "                    facilities_res[Facilities.index(facility)] = 1\n",
    "        except:\n",
    "            pass\n",
    "        \n",
    "        # Tìm tất cả thẻ div có cùng CSS Selector\n",
    "        divs = wait.until(EC.presence_of_all_elements_located((By.CSS_SELECTOR, '.c807d72881.c3b290dbba.be7182ad14.e10711a42e')))\n",
    "        # Tìm khoảng cách tới biển gần nhất\n",
    "        try:\n",
    "            div_child = divs[4].find_elements(By.CSS_SELECTOR, '.a8b57ad3ff.d50c412d31.fb9a5438f9.c7a5a1307a')\n",
    "            min_beach = []\n",
    "            for i in range(len(div_child)):\n",
    "                print(div_child[i].get_attribute('innerHTML'))\n",
    "                min_beach.append(div_child[i].find_element(By.CSS_SELECTOR, '.a53cbfa6de.f45d8e4c32.c875b9e968').text)\n",
    "            for i in range(len(min_beach)):\n",
    "                if 'km' in min_beach[i]:\n",
    "                    min_beach[i] = float(min_beach[i].replace('km', '').replace(',', '.')) * 1000\n",
    "                else:\n",
    "                    min_beach[i] = float(min_beach[i].replace('m', '').replace(',', '.'))\n",
    "            min_beach = min(min_beach) / 1000 \n",
    "        except:\n",
    "            min_beach = 0\n",
    "            \n",
    "        try:\n",
    "            div_child2 = divs[6].find_elements(By.CSS_SELECTOR, '.a8b57ad3ff.d50c412d31.fb9a5438f9.c7a5a1307a')\n",
    "            airport = div_child2[0].find_element(By.CSS_SELECTOR, '.a53cbfa6de.f45d8e4c32.c875b9e968').text\n",
    "            \n",
    "            if 'km' in airport:\n",
    "                airport = float(airport.replace('km', '').replace(',', '.')) \n",
    "            else:\n",
    "                airport = float(airport.replace('m', '').replace(',', '.')) / 1000\n",
    "        except:\n",
    "            airport = 0\n",
    "            \n",
    "        # Tìm khoảng cách tới sân bay Đà Nẵng\n",
    "        with open ('../raw data/hotel_raw.csv', 'a', encoding='utf8', newline='') as file:\n",
    "            writer = csv.writer(file)\n",
    "            writer.writerow([name, address, price, size, min_beach, airport] + facilities_res)\n",
    "    driver.quit()    \n",
    "create_csv()\n",
    "find_hotel()"
   ]
  },
  {
   "cell_type": "code",
   "execution_count": null,
   "metadata": {},
   "outputs": [],
   "source": []
  }
 ],
 "metadata": {
  "kernelspec": {
   "display_name": "Python 3",
   "language": "python",
   "name": "python3"
  },
  "language_info": {
   "codemirror_mode": {
    "name": "ipython",
    "version": 3
   },
   "file_extension": ".py",
   "mimetype": "text/x-python",
   "name": "python",
   "nbconvert_exporter": "python",
   "pygments_lexer": "ipython3",
   "version": "3.9.4"
  }
 },
 "nbformat": 4,
 "nbformat_minor": 2
}
